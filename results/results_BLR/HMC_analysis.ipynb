{
 "cells": [
  {
   "cell_type": "code",
   "execution_count": 1,
   "metadata": {},
   "outputs": [],
   "source": [
    "import numpy as np"
   ]
  },
  {
   "cell_type": "code",
   "execution_count": 39,
   "metadata": {},
   "outputs": [],
   "source": [
    "I_true = np.load('I_true_housing.npy')\n",
    "hmc_val = np.load('results_nuts_housing.npy')\n",
    "print(\"HOUSING\")\n",
    "print('T = 5: ',np.mean(((hmc_val[0]-I_true)/I_true)**2))\n",
    "print('T =10: ',np.mean(((hmc_val[1]-I_true)/I_true)**2))\n",
    "print('T =20: ',np.mean(((hmc_val[2]-I_true)/I_true)**2))\n",
    "print('T =30: ',np.mean(((hmc_val[3]-I_true)/I_true)**2))\n",
    "\n",
    "\n",
    "I_true = np.load('I_true_abalone.npy') \n",
    "hmc_val = np.load('results_nuts_abalone.npy')\n",
    "print(\"ABALONE\")\n",
    "print('T = 5: ',np.mean(((hmc_val[0]-I_true)/I_true)**2))\n",
    "print('T =10: ',np.mean(((hmc_val[1]-I_true)/I_true)**2))\n",
    "print('T =20: ',np.mean(((hmc_val[2]-I_true)/I_true)**2))\n",
    "print('T =30: ',np.mean(((hmc_val[3]-I_true)/I_true)**2))\n",
    "\n",
    "\n",
    "I_true = np.load('I_true_red_wine.npy') \n",
    "hmc_val = np.load('results_nuts_redwine.npy')\n",
    "print(\"RED WINE\")\n",
    "print('T = 5: ',np.mean(((hmc_val[0]-I_true)/I_true)**2))\n",
    "print('T =10: ',np.mean(((hmc_val[1]-I_true)/I_true)**2))\n",
    "print('T =20: ',np.mean(((hmc_val[2]-I_true)/I_true)**2))\n",
    "print('T =30: ',np.mean(((hmc_val[3]-I_true)/I_true)**2))\n",
    "\n",
    "I_true = np.load('I_true_white_wine.npy') \n",
    "hmc_val = np.load('nuts_whitewine.npy')\n",
    "print(\"WHITE WINE\")\n",
    "print('T = 5: ',np.mean(((hmc_val[0]-I_true)/I_true)**2))\n",
    "print('T =10: ',np.mean(((hmc_val[1]-I_true)/I_true)**2))\n",
    "print('T =20: ',np.mean(((hmc_val[2]-I_true)/I_true)**2))\n",
    "print('T =30: ',np.mean(((hmc_val[3]-I_true)/I_true)**2))"
   ]
  }
 ],
 "metadata": {
  "kernelspec": {
   "display_name": "Python 3 (ipykernel)",
   "language": "python",
   "name": "python3"
  },
  "language_info": {
   "codemirror_mode": {
    "name": "ipython",
    "version": 3
   },
   "file_extension": ".py",
   "mimetype": "text/x-python",
   "name": "python",
   "nbconvert_exporter": "python",
   "pygments_lexer": "ipython3",
   "version": "3.7.5"
  }
 },
 "nbformat": 4,
 "nbformat_minor": 2
}
